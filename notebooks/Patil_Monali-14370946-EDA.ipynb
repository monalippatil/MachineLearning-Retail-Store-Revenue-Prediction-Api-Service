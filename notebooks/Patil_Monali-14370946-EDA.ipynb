{
 "cells": [
  {
   "cell_type": "markdown",
   "metadata": {},
   "source": [
    "### • Business Understanding\n",
    "\n",
    "•  **Introduction:** The project, involves working with an American retail chain operating across California (CA), Texas (TX), and Wisconsin (WI). This retailer offers a diverse range of products, including hobbies, foods, and household items, across ten stores. The objective is to develop and deploy two distinct machine learning models as APIs to address specific business challenges:\n",
    "\n",
    "1. Predictive Model: A predictive model to forecast sales revenue for specific items in particular stores on given dates.\n",
    "2. Forecasting Model: A time-series-based forecasting model to predict total sales revenue across all stores and items for the next seven days.\n",
    "\n",
    "These models will help optimize inventory, pricing, and decision-making for our retail partner.\n",
    "\n",
    "•  **Dataset:** To develop and evaluate the models, below datasets are provided:\n",
    "\n",
    "        - Training Data\n",
    "        - Evaluation Data\n",
    "        - Calendar\n",
    "        - Events\n",
    "        - Items Price per Week\n",
    "\n",
    "•  **Business Problem:** The primary business problems that the machine learning models aim to address are as follows:\n",
    "\n",
    "1. Sales Prediction: The retailer needs to accurately predict the sales revenue for individual items in specific stores for any given date.\n",
    "\n",
    "2. Sales Forecasting: The retailer seeks to forecast total sales revenue across all stores and items for the next seven days.\n",
    "\n",
    "This information is crucial for inventory management, pricing strategies, and overall business planning. Our machine learning models aim to address these business challenges by providing precise predictions and forecasts.\n",
    "\n",
    "The following activitives are performed for this Regression learning task.\n",
    "\n",
    "• Business Understanding\n",
    "\n",
    "• Data Understanding\n",
    "\n",
    "        1] Loading Data\n",
    "        2] Exploring Data\n",
    "        3] Combining the training and other datasets\n",
    "\n",
    "• Data Preparation\n",
    "\n",
    "        4] Feature Engineering\n",
    "        5] Features Selection\n",
    "        6] Splitting Data into Different Sets\n",
    "\n",
    "• Modeling\n",
    "\n",
    "        7] Assessing Baseline Performance\n",
    "        8] Sales Prediction Model: XGBoost Algorithm\n",
    "        9] Sales Forecasting Model: Prophet Algorithm\n",
    "\n",
    "• Model Evaluation\n",
    "\n",
    "        10] Analysing Model Performance"
   ]
  },
  {
   "cell_type": "code",
   "execution_count": 1,
   "metadata": {},
   "outputs": [],
   "source": [
    "# Importing Python and the necessary libraries\n",
    "import numpy as np\n",
    "import pandas as pd\n",
    "\n",
    "# Importing formatting and other required libraries\n",
    "import sys\n",
    "import warnings\n",
    "\n",
    "# Including the project root directory\n",
    "sys.path.append('/Users/monalipatil/Monali/MDSI-Semester1/Advanced Machine Learning Application/Assignment2/adv_mla_assignment2')\n",
    "\n",
    "# Importing functions defined to perform EDA and data processing tasks\n",
    "from src.data.sets import checking_null_values, imputing_missing_values, extract_date_components"
   ]
  },
  {
   "cell_type": "code",
   "execution_count": 2,
   "metadata": {},
   "outputs": [],
   "source": [
    "%load_ext autoreload\n",
    "%autoreload 2"
   ]
  },
  {
   "cell_type": "code",
   "execution_count": 3,
   "metadata": {},
   "outputs": [],
   "source": [
    "#Ignoring warnings to maintain a clean coding.\n",
    "warnings.filterwarnings('ignore')"
   ]
  },
  {
   "cell_type": "markdown",
   "metadata": {},
   "source": [
    "## Exploratory Data Analysis (EDA) and Data Preparation Activities."
   ]
  },
  {
   "cell_type": "markdown",
   "metadata": {},
   "source": [
    "### • Data Understanding"
   ]
  },
  {
   "cell_type": "markdown",
   "metadata": {},
   "source": [
    "#### 1] Loading  Data"
   ]
  },
  {
   "cell_type": "code",
   "execution_count": 4,
   "metadata": {},
   "outputs": [],
   "source": [
    "# Defining data files path \n",
    "# Note: Change this path to the relevant directory\n",
    "file_url = '/Users/monalipatil/Monali/MDSI-Semester1/Advanced Machine Learning Application/Assignment2/adv_mla_assignment2'\n",
    "\n",
    "# Loading the retail data into a separate pandas dataframe\n",
    "df_train = pd.read_csv(file_url + '/data/raw/sales_train.csv')\n",
    "df_calendar = pd.read_csv(file_url + '/data/raw/calendar.csv')\n",
    "df_calendar_events = pd.read_csv(file_url + '/data/raw/calendar_events.csv')\n",
    "df_sell_prices = pd.read_csv(file_url + '/data/raw/items_weekly_sell_prices.csv')"
   ]
  },
  {
   "cell_type": "markdown",
   "metadata": {},
   "source": [
    "#### 2] Exploring Data"
   ]
  },
  {
   "cell_type": "markdown",
   "metadata": {},
   "source": [
    "• Checking a some data points of the datasets."
   ]
  },
  {
   "cell_type": "code",
   "execution_count": 5,
   "metadata": {},
   "outputs": [
    {
     "data": {
      "text/html": [
       "<div>\n",
       "<style scoped>\n",
       "    .dataframe tbody tr th:only-of-type {\n",
       "        vertical-align: middle;\n",
       "    }\n",
       "\n",
       "    .dataframe tbody tr th {\n",
       "        vertical-align: top;\n",
       "    }\n",
       "\n",
       "    .dataframe thead th {\n",
       "        text-align: right;\n",
       "    }\n",
       "</style>\n",
       "<table border=\"1\" class=\"dataframe\">\n",
       "  <thead>\n",
       "    <tr style=\"text-align: right;\">\n",
       "      <th></th>\n",
       "      <th>id</th>\n",
       "      <th>item_id</th>\n",
       "      <th>dept_id</th>\n",
       "      <th>cat_id</th>\n",
       "      <th>store_id</th>\n",
       "      <th>state_id</th>\n",
       "      <th>d_1</th>\n",
       "      <th>d_2</th>\n",
       "      <th>d_3</th>\n",
       "      <th>d_4</th>\n",
       "      <th>...</th>\n",
       "      <th>d_1532</th>\n",
       "      <th>d_1533</th>\n",
       "      <th>d_1534</th>\n",
       "      <th>d_1535</th>\n",
       "      <th>d_1536</th>\n",
       "      <th>d_1537</th>\n",
       "      <th>d_1538</th>\n",
       "      <th>d_1539</th>\n",
       "      <th>d_1540</th>\n",
       "      <th>d_1541</th>\n",
       "    </tr>\n",
       "  </thead>\n",
       "  <tbody>\n",
       "    <tr>\n",
       "      <th>0</th>\n",
       "      <td>HOBBIES_1_001_CA_1_evaluation</td>\n",
       "      <td>HOBBIES_1_001</td>\n",
       "      <td>HOBBIES_1</td>\n",
       "      <td>HOBBIES</td>\n",
       "      <td>CA_1</td>\n",
       "      <td>CA</td>\n",
       "      <td>0</td>\n",
       "      <td>0</td>\n",
       "      <td>0</td>\n",
       "      <td>0</td>\n",
       "      <td>...</td>\n",
       "      <td>1</td>\n",
       "      <td>1</td>\n",
       "      <td>1</td>\n",
       "      <td>0</td>\n",
       "      <td>1</td>\n",
       "      <td>0</td>\n",
       "      <td>1</td>\n",
       "      <td>0</td>\n",
       "      <td>0</td>\n",
       "      <td>1</td>\n",
       "    </tr>\n",
       "    <tr>\n",
       "      <th>1</th>\n",
       "      <td>HOBBIES_1_002_CA_1_evaluation</td>\n",
       "      <td>HOBBIES_1_002</td>\n",
       "      <td>HOBBIES_1</td>\n",
       "      <td>HOBBIES</td>\n",
       "      <td>CA_1</td>\n",
       "      <td>CA</td>\n",
       "      <td>0</td>\n",
       "      <td>0</td>\n",
       "      <td>0</td>\n",
       "      <td>0</td>\n",
       "      <td>...</td>\n",
       "      <td>0</td>\n",
       "      <td>0</td>\n",
       "      <td>0</td>\n",
       "      <td>0</td>\n",
       "      <td>0</td>\n",
       "      <td>0</td>\n",
       "      <td>0</td>\n",
       "      <td>0</td>\n",
       "      <td>1</td>\n",
       "      <td>0</td>\n",
       "    </tr>\n",
       "    <tr>\n",
       "      <th>2</th>\n",
       "      <td>HOBBIES_1_003_CA_1_evaluation</td>\n",
       "      <td>HOBBIES_1_003</td>\n",
       "      <td>HOBBIES_1</td>\n",
       "      <td>HOBBIES</td>\n",
       "      <td>CA_1</td>\n",
       "      <td>CA</td>\n",
       "      <td>0</td>\n",
       "      <td>0</td>\n",
       "      <td>0</td>\n",
       "      <td>0</td>\n",
       "      <td>...</td>\n",
       "      <td>0</td>\n",
       "      <td>0</td>\n",
       "      <td>1</td>\n",
       "      <td>0</td>\n",
       "      <td>0</td>\n",
       "      <td>0</td>\n",
       "      <td>0</td>\n",
       "      <td>0</td>\n",
       "      <td>0</td>\n",
       "      <td>0</td>\n",
       "    </tr>\n",
       "    <tr>\n",
       "      <th>3</th>\n",
       "      <td>HOBBIES_1_004_CA_1_evaluation</td>\n",
       "      <td>HOBBIES_1_004</td>\n",
       "      <td>HOBBIES_1</td>\n",
       "      <td>HOBBIES</td>\n",
       "      <td>CA_1</td>\n",
       "      <td>CA</td>\n",
       "      <td>0</td>\n",
       "      <td>0</td>\n",
       "      <td>0</td>\n",
       "      <td>0</td>\n",
       "      <td>...</td>\n",
       "      <td>8</td>\n",
       "      <td>2</td>\n",
       "      <td>0</td>\n",
       "      <td>8</td>\n",
       "      <td>2</td>\n",
       "      <td>3</td>\n",
       "      <td>1</td>\n",
       "      <td>1</td>\n",
       "      <td>3</td>\n",
       "      <td>8</td>\n",
       "    </tr>\n",
       "    <tr>\n",
       "      <th>4</th>\n",
       "      <td>HOBBIES_1_005_CA_1_evaluation</td>\n",
       "      <td>HOBBIES_1_005</td>\n",
       "      <td>HOBBIES_1</td>\n",
       "      <td>HOBBIES</td>\n",
       "      <td>CA_1</td>\n",
       "      <td>CA</td>\n",
       "      <td>0</td>\n",
       "      <td>0</td>\n",
       "      <td>0</td>\n",
       "      <td>0</td>\n",
       "      <td>...</td>\n",
       "      <td>2</td>\n",
       "      <td>0</td>\n",
       "      <td>1</td>\n",
       "      <td>3</td>\n",
       "      <td>2</td>\n",
       "      <td>1</td>\n",
       "      <td>1</td>\n",
       "      <td>2</td>\n",
       "      <td>2</td>\n",
       "      <td>3</td>\n",
       "    </tr>\n",
       "  </tbody>\n",
       "</table>\n",
       "<p>5 rows × 1547 columns</p>\n",
       "</div>"
      ],
      "text/plain": [
       "                              id        item_id    dept_id   cat_id store_id  \\\n",
       "0  HOBBIES_1_001_CA_1_evaluation  HOBBIES_1_001  HOBBIES_1  HOBBIES     CA_1   \n",
       "1  HOBBIES_1_002_CA_1_evaluation  HOBBIES_1_002  HOBBIES_1  HOBBIES     CA_1   \n",
       "2  HOBBIES_1_003_CA_1_evaluation  HOBBIES_1_003  HOBBIES_1  HOBBIES     CA_1   \n",
       "3  HOBBIES_1_004_CA_1_evaluation  HOBBIES_1_004  HOBBIES_1  HOBBIES     CA_1   \n",
       "4  HOBBIES_1_005_CA_1_evaluation  HOBBIES_1_005  HOBBIES_1  HOBBIES     CA_1   \n",
       "\n",
       "  state_id  d_1  d_2  d_3  d_4  ...  d_1532  d_1533  d_1534  d_1535  d_1536  \\\n",
       "0       CA    0    0    0    0  ...       1       1       1       0       1   \n",
       "1       CA    0    0    0    0  ...       0       0       0       0       0   \n",
       "2       CA    0    0    0    0  ...       0       0       1       0       0   \n",
       "3       CA    0    0    0    0  ...       8       2       0       8       2   \n",
       "4       CA    0    0    0    0  ...       2       0       1       3       2   \n",
       "\n",
       "   d_1537  d_1538  d_1539  d_1540  d_1541  \n",
       "0       0       1       0       0       1  \n",
       "1       0       0       0       1       0  \n",
       "2       0       0       0       0       0  \n",
       "3       3       1       1       3       8  \n",
       "4       1       1       2       2       3  \n",
       "\n",
       "[5 rows x 1547 columns]"
      ]
     },
     "execution_count": 5,
     "metadata": {},
     "output_type": "execute_result"
    }
   ],
   "source": [
    "# Checking the initial records of the dataset - training\n",
    "df_train.head()"
   ]
  },
  {
   "cell_type": "code",
   "execution_count": 6,
   "metadata": {},
   "outputs": [
    {
     "data": {
      "text/html": [
       "<div>\n",
       "<style scoped>\n",
       "    .dataframe tbody tr th:only-of-type {\n",
       "        vertical-align: middle;\n",
       "    }\n",
       "\n",
       "    .dataframe tbody tr th {\n",
       "        vertical-align: top;\n",
       "    }\n",
       "\n",
       "    .dataframe thead th {\n",
       "        text-align: right;\n",
       "    }\n",
       "</style>\n",
       "<table border=\"1\" class=\"dataframe\">\n",
       "  <thead>\n",
       "    <tr style=\"text-align: right;\">\n",
       "      <th></th>\n",
       "      <th>store_id</th>\n",
       "      <th>item_id</th>\n",
       "      <th>wm_yr_wk</th>\n",
       "      <th>sell_price</th>\n",
       "    </tr>\n",
       "  </thead>\n",
       "  <tbody>\n",
       "    <tr>\n",
       "      <th>0</th>\n",
       "      <td>CA_1</td>\n",
       "      <td>HOBBIES_1_001</td>\n",
       "      <td>11325</td>\n",
       "      <td>9.58</td>\n",
       "    </tr>\n",
       "    <tr>\n",
       "      <th>1</th>\n",
       "      <td>CA_1</td>\n",
       "      <td>HOBBIES_1_001</td>\n",
       "      <td>11326</td>\n",
       "      <td>9.58</td>\n",
       "    </tr>\n",
       "    <tr>\n",
       "      <th>2</th>\n",
       "      <td>CA_1</td>\n",
       "      <td>HOBBIES_1_001</td>\n",
       "      <td>11327</td>\n",
       "      <td>8.26</td>\n",
       "    </tr>\n",
       "    <tr>\n",
       "      <th>3</th>\n",
       "      <td>CA_1</td>\n",
       "      <td>HOBBIES_1_001</td>\n",
       "      <td>11328</td>\n",
       "      <td>8.26</td>\n",
       "    </tr>\n",
       "    <tr>\n",
       "      <th>4</th>\n",
       "      <td>CA_1</td>\n",
       "      <td>HOBBIES_1_001</td>\n",
       "      <td>11329</td>\n",
       "      <td>8.26</td>\n",
       "    </tr>\n",
       "  </tbody>\n",
       "</table>\n",
       "</div>"
      ],
      "text/plain": [
       "  store_id        item_id  wm_yr_wk  sell_price\n",
       "0     CA_1  HOBBIES_1_001     11325        9.58\n",
       "1     CA_1  HOBBIES_1_001     11326        9.58\n",
       "2     CA_1  HOBBIES_1_001     11327        8.26\n",
       "3     CA_1  HOBBIES_1_001     11328        8.26\n",
       "4     CA_1  HOBBIES_1_001     11329        8.26"
      ]
     },
     "execution_count": 6,
     "metadata": {},
     "output_type": "execute_result"
    }
   ],
   "source": [
    "# Checking the initial records of the dataset - weekly selling prices of the item\n",
    "df_sell_prices.head()"
   ]
  },
  {
   "cell_type": "code",
   "execution_count": 7,
   "metadata": {},
   "outputs": [
    {
     "data": {
      "text/html": [
       "<div>\n",
       "<style scoped>\n",
       "    .dataframe tbody tr th:only-of-type {\n",
       "        vertical-align: middle;\n",
       "    }\n",
       "\n",
       "    .dataframe tbody tr th {\n",
       "        vertical-align: top;\n",
       "    }\n",
       "\n",
       "    .dataframe thead th {\n",
       "        text-align: right;\n",
       "    }\n",
       "</style>\n",
       "<table border=\"1\" class=\"dataframe\">\n",
       "  <thead>\n",
       "    <tr style=\"text-align: right;\">\n",
       "      <th></th>\n",
       "      <th>date</th>\n",
       "      <th>wm_yr_wk</th>\n",
       "      <th>d</th>\n",
       "    </tr>\n",
       "  </thead>\n",
       "  <tbody>\n",
       "    <tr>\n",
       "      <th>0</th>\n",
       "      <td>2011-01-29</td>\n",
       "      <td>11101</td>\n",
       "      <td>d_1</td>\n",
       "    </tr>\n",
       "    <tr>\n",
       "      <th>1</th>\n",
       "      <td>2011-01-30</td>\n",
       "      <td>11101</td>\n",
       "      <td>d_2</td>\n",
       "    </tr>\n",
       "    <tr>\n",
       "      <th>2</th>\n",
       "      <td>2011-01-31</td>\n",
       "      <td>11101</td>\n",
       "      <td>d_3</td>\n",
       "    </tr>\n",
       "    <tr>\n",
       "      <th>3</th>\n",
       "      <td>2011-02-01</td>\n",
       "      <td>11101</td>\n",
       "      <td>d_4</td>\n",
       "    </tr>\n",
       "    <tr>\n",
       "      <th>4</th>\n",
       "      <td>2011-02-02</td>\n",
       "      <td>11101</td>\n",
       "      <td>d_5</td>\n",
       "    </tr>\n",
       "  </tbody>\n",
       "</table>\n",
       "</div>"
      ],
      "text/plain": [
       "         date  wm_yr_wk    d\n",
       "0  2011-01-29     11101  d_1\n",
       "1  2011-01-30     11101  d_2\n",
       "2  2011-01-31     11101  d_3\n",
       "3  2011-02-01     11101  d_4\n",
       "4  2011-02-02     11101  d_5"
      ]
     },
     "execution_count": 7,
     "metadata": {},
     "output_type": "execute_result"
    }
   ],
   "source": [
    "# Checking the initial records of the dataset - calendar\n",
    "df_calendar.head()"
   ]
  },
  {
   "cell_type": "code",
   "execution_count": 8,
   "metadata": {},
   "outputs": [
    {
     "data": {
      "text/html": [
       "<div>\n",
       "<style scoped>\n",
       "    .dataframe tbody tr th:only-of-type {\n",
       "        vertical-align: middle;\n",
       "    }\n",
       "\n",
       "    .dataframe tbody tr th {\n",
       "        vertical-align: top;\n",
       "    }\n",
       "\n",
       "    .dataframe thead th {\n",
       "        text-align: right;\n",
       "    }\n",
       "</style>\n",
       "<table border=\"1\" class=\"dataframe\">\n",
       "  <thead>\n",
       "    <tr style=\"text-align: right;\">\n",
       "      <th></th>\n",
       "      <th>date</th>\n",
       "      <th>event_name</th>\n",
       "      <th>event_type</th>\n",
       "    </tr>\n",
       "  </thead>\n",
       "  <tbody>\n",
       "    <tr>\n",
       "      <th>0</th>\n",
       "      <td>2011-02-06</td>\n",
       "      <td>SuperBowl</td>\n",
       "      <td>Sporting</td>\n",
       "    </tr>\n",
       "    <tr>\n",
       "      <th>1</th>\n",
       "      <td>2011-02-14</td>\n",
       "      <td>ValentinesDay</td>\n",
       "      <td>Cultural</td>\n",
       "    </tr>\n",
       "    <tr>\n",
       "      <th>2</th>\n",
       "      <td>2011-02-21</td>\n",
       "      <td>PresidentsDay</td>\n",
       "      <td>National</td>\n",
       "    </tr>\n",
       "    <tr>\n",
       "      <th>3</th>\n",
       "      <td>2011-03-09</td>\n",
       "      <td>LentStart</td>\n",
       "      <td>Religious</td>\n",
       "    </tr>\n",
       "    <tr>\n",
       "      <th>4</th>\n",
       "      <td>2011-03-16</td>\n",
       "      <td>LentWeek2</td>\n",
       "      <td>Religious</td>\n",
       "    </tr>\n",
       "  </tbody>\n",
       "</table>\n",
       "</div>"
      ],
      "text/plain": [
       "         date     event_name event_type\n",
       "0  2011-02-06      SuperBowl   Sporting\n",
       "1  2011-02-14  ValentinesDay   Cultural\n",
       "2  2011-02-21  PresidentsDay   National\n",
       "3  2011-03-09      LentStart  Religious\n",
       "4  2011-03-16      LentWeek2  Religious"
      ]
     },
     "execution_count": 8,
     "metadata": {},
     "output_type": "execute_result"
    }
   ],
   "source": [
    "# Checking the initial records of the dataset - calendar events\n",
    "df_calendar_events.head()"
   ]
  },
  {
   "cell_type": "markdown",
   "metadata": {},
   "source": [
    "• Examining the dimension of the dataset."
   ]
  },
  {
   "cell_type": "code",
   "execution_count": 9,
   "metadata": {},
   "outputs": [
    {
     "name": "stdout",
     "output_type": "stream",
     "text": [
      "Training Dataset: (30490, 1547)\n",
      "Weekly Selling Prices of the Item Dataset: (6841121, 4)\n",
      "Calander Dataset: (1969, 3)\n",
      "Calander Events Dataset: (167, 3)\n"
     ]
    }
   ],
   "source": [
    "# Checking the size of the datasets\n",
    "print('Training Dataset:', df_train.shape)\n",
    "print('Weekly Selling Prices of the Item Dataset:', df_sell_prices.shape)\n",
    "print('Calander Dataset:', df_calendar.shape)\n",
    "print('Calander Events Dataset:', df_calendar_events.shape)"
   ]
  },
  {
   "cell_type": "markdown",
   "metadata": {},
   "source": [
    "• Checking attributes names. "
   ]
  },
  {
   "cell_type": "code",
   "execution_count": 10,
   "metadata": {},
   "outputs": [
    {
     "name": "stdout",
     "output_type": "stream",
     "text": [
      "Training Dataset Attribute Names: Index(['id', 'item_id', 'dept_id', 'cat_id', 'store_id', 'state_id', 'd_1',\n",
      "       'd_2', 'd_3', 'd_4',\n",
      "       ...\n",
      "       'd_1532', 'd_1533', 'd_1534', 'd_1535', 'd_1536', 'd_1537', 'd_1538',\n",
      "       'd_1539', 'd_1540', 'd_1541'],\n",
      "      dtype='object', length=1547)\n",
      "\n",
      " Weekly Selling Prices of the Item Dataset Attribute Names: Index(['store_id', 'item_id', 'wm_yr_wk', 'sell_price'], dtype='object')\n",
      "\n",
      " Calander Dataset Attribute Names: Index(['date', 'wm_yr_wk', 'd'], dtype='object')\n",
      "\n",
      " Calander Events Dataset Attribute Names: Index(['date', 'event_name', 'event_type'], dtype='object')\n"
     ]
    }
   ],
   "source": [
    "# Viewing the attributes of the datasets\n",
    "print('Training Dataset Attribute Names:', df_train.columns)\n",
    "print('\\n Weekly Selling Prices of the Item Dataset Attribute Names:', df_sell_prices.columns)\n",
    "print('\\n Calander Dataset Attribute Names:', df_calendar.columns)\n",
    "print('\\n Calander Events Dataset Attribute Names:', df_calendar_events.columns)"
   ]
  },
  {
   "cell_type": "markdown",
   "metadata": {},
   "source": [
    "• Inspecting for any null values in the datasets."
   ]
  },
  {
   "cell_type": "code",
   "execution_count": 11,
   "metadata": {},
   "outputs": [
    {
     "name": "stdout",
     "output_type": "stream",
     "text": [
      "Verifying the presence of null values in dataset - training\n",
      "id          0\n",
      "item_id     0\n",
      "dept_id     0\n",
      "cat_id      0\n",
      "store_id    0\n",
      "           ..\n",
      "d_1537      0\n",
      "d_1538      0\n",
      "d_1539      0\n",
      "d_1540      0\n",
      "d_1541      0\n",
      "Length: 1547, dtype: int64\n"
     ]
    }
   ],
   "source": [
    "# Checking whether there are any null values in the dataset - training\n",
    "print('Verifying the presence of null values in dataset - training')\n",
    "checking_null_values(df_train)"
   ]
  },
  {
   "cell_type": "code",
   "execution_count": 12,
   "metadata": {},
   "outputs": [
    {
     "name": "stdout",
     "output_type": "stream",
     "text": [
      "Verifying the presence of null values in dataset - weekly selling prices of the item\n",
      "store_id      0\n",
      "item_id       0\n",
      "wm_yr_wk      0\n",
      "sell_price    0\n",
      "dtype: int64\n"
     ]
    }
   ],
   "source": [
    "# Checking whether there are any null values in the dataset - weekly selling prices of the item\n",
    "print('Verifying the presence of null values in dataset - weekly selling prices of the item')\n",
    "checking_null_values(df_sell_prices)"
   ]
  },
  {
   "cell_type": "code",
   "execution_count": 13,
   "metadata": {},
   "outputs": [
    {
     "name": "stdout",
     "output_type": "stream",
     "text": [
      "Verifying the presence of null values in dataset - calendar\n",
      "date        0\n",
      "wm_yr_wk    0\n",
      "d           0\n",
      "dtype: int64\n"
     ]
    }
   ],
   "source": [
    "# Checking whether there are any null values in the dataset - calendar\n",
    "print('Verifying the presence of null values in dataset - calendar')\n",
    "checking_null_values(df_calendar)"
   ]
  },
  {
   "cell_type": "code",
   "execution_count": 14,
   "metadata": {},
   "outputs": [
    {
     "name": "stdout",
     "output_type": "stream",
     "text": [
      "Verifying the presence of null values in dataset - calendar events\n",
      "date          0\n",
      "event_name    0\n",
      "event_type    0\n",
      "dtype: int64\n"
     ]
    }
   ],
   "source": [
    "# Checking whether there are any null values in the dataset - calendar events\n",
    "print('Verifying the presence of null values in dataset - calendar events')\n",
    "checking_null_values(df_calendar_events)"
   ]
  },
  {
   "cell_type": "markdown",
   "metadata": {},
   "source": [
    "#### 3] Combining the training and other datasets"
   ]
  },
  {
   "cell_type": "markdown",
   "metadata": {},
   "source": [
    "• Reshaping the training dataset and renaming the attributes."
   ]
  },
  {
   "cell_type": "code",
   "execution_count": 15,
   "metadata": {},
   "outputs": [
    {
     "data": {
      "text/html": [
       "<div>\n",
       "<style scoped>\n",
       "    .dataframe tbody tr th:only-of-type {\n",
       "        vertical-align: middle;\n",
       "    }\n",
       "\n",
       "    .dataframe tbody tr th {\n",
       "        vertical-align: top;\n",
       "    }\n",
       "\n",
       "    .dataframe thead th {\n",
       "        text-align: right;\n",
       "    }\n",
       "</style>\n",
       "<table border=\"1\" class=\"dataframe\">\n",
       "  <thead>\n",
       "    <tr style=\"text-align: right;\">\n",
       "      <th></th>\n",
       "      <th>id</th>\n",
       "      <th>item_id</th>\n",
       "      <th>dept_id</th>\n",
       "      <th>cat_id</th>\n",
       "      <th>store_id</th>\n",
       "      <th>state_id</th>\n",
       "      <th>dayofsale</th>\n",
       "      <th>volume</th>\n",
       "    </tr>\n",
       "  </thead>\n",
       "  <tbody>\n",
       "    <tr>\n",
       "      <th>16042929</th>\n",
       "      <td>FOODS_2_314_CA_2_evaluation</td>\n",
       "      <td>FOODS_2_314</td>\n",
       "      <td>FOODS_2</td>\n",
       "      <td>FOODS</td>\n",
       "      <td>CA_2</td>\n",
       "      <td>CA</td>\n",
       "      <td>d_527</td>\n",
       "      <td>0</td>\n",
       "    </tr>\n",
       "    <tr>\n",
       "      <th>29296090</th>\n",
       "      <td>HOUSEHOLD_2_203_WI_2_evaluation</td>\n",
       "      <td>HOUSEHOLD_2_203</td>\n",
       "      <td>HOUSEHOLD_2</td>\n",
       "      <td>HOUSEHOLD</td>\n",
       "      <td>WI_2</td>\n",
       "      <td>WI</td>\n",
       "      <td>d_961</td>\n",
       "      <td>0</td>\n",
       "    </tr>\n",
       "    <tr>\n",
       "      <th>12078691</th>\n",
       "      <td>HOUSEHOLD_2_507_CA_2_evaluation</td>\n",
       "      <td>HOUSEHOLD_2_507</td>\n",
       "      <td>HOUSEHOLD_2</td>\n",
       "      <td>HOUSEHOLD</td>\n",
       "      <td>CA_2</td>\n",
       "      <td>CA</td>\n",
       "      <td>d_397</td>\n",
       "      <td>1</td>\n",
       "    </tr>\n",
       "  </tbody>\n",
       "</table>\n",
       "</div>"
      ],
      "text/plain": [
       "                                       id          item_id      dept_id  \\\n",
       "16042929      FOODS_2_314_CA_2_evaluation      FOODS_2_314      FOODS_2   \n",
       "29296090  HOUSEHOLD_2_203_WI_2_evaluation  HOUSEHOLD_2_203  HOUSEHOLD_2   \n",
       "12078691  HOUSEHOLD_2_507_CA_2_evaluation  HOUSEHOLD_2_507  HOUSEHOLD_2   \n",
       "\n",
       "             cat_id store_id state_id dayofsale  volume  \n",
       "16042929      FOODS     CA_2       CA     d_527       0  \n",
       "29296090  HOUSEHOLD     WI_2       WI     d_961       0  \n",
       "12078691  HOUSEHOLD     CA_2       CA     d_397       1  "
      ]
     },
     "execution_count": 15,
     "metadata": {},
     "output_type": "execute_result"
    }
   ],
   "source": [
    "# Transforming the training dataset and remaining the attributes\n",
    "df_train = df_train.melt(id_vars=['id', 'item_id', 'dept_id', 'cat_id', 'store_id', 'state_id'], var_name='dayofsale', value_name='volume')\n",
    "\n",
    "# Reviewing the training dataset after reshaping\n",
    "df_train.sample(3)"
   ]
  },
  {
   "cell_type": "markdown",
   "metadata": {},
   "source": [
    "• Combining the training and calendar dataframes using the sales day information."
   ]
  },
  {
   "cell_type": "code",
   "execution_count": 16,
   "metadata": {},
   "outputs": [
    {
     "data": {
      "text/html": [
       "<div>\n",
       "<style scoped>\n",
       "    .dataframe tbody tr th:only-of-type {\n",
       "        vertical-align: middle;\n",
       "    }\n",
       "\n",
       "    .dataframe tbody tr th {\n",
       "        vertical-align: top;\n",
       "    }\n",
       "\n",
       "    .dataframe thead th {\n",
       "        text-align: right;\n",
       "    }\n",
       "</style>\n",
       "<table border=\"1\" class=\"dataframe\">\n",
       "  <thead>\n",
       "    <tr style=\"text-align: right;\">\n",
       "      <th></th>\n",
       "      <th>id</th>\n",
       "      <th>item_id</th>\n",
       "      <th>dept_id</th>\n",
       "      <th>cat_id</th>\n",
       "      <th>store_id</th>\n",
       "      <th>state_id</th>\n",
       "      <th>dayofsale</th>\n",
       "      <th>volume</th>\n",
       "      <th>date</th>\n",
       "      <th>wm_yr_wk</th>\n",
       "      <th>d</th>\n",
       "    </tr>\n",
       "  </thead>\n",
       "  <tbody>\n",
       "    <tr>\n",
       "      <th>38274168</th>\n",
       "      <td>HOBBIES_1_074_CA_4_evaluation</td>\n",
       "      <td>HOBBIES_1_074</td>\n",
       "      <td>HOBBIES_1</td>\n",
       "      <td>HOBBIES</td>\n",
       "      <td>CA_4</td>\n",
       "      <td>CA</td>\n",
       "      <td>d_1256</td>\n",
       "      <td>1</td>\n",
       "      <td>2014-07-07</td>\n",
       "      <td>11423</td>\n",
       "      <td>d_1256</td>\n",
       "    </tr>\n",
       "    <tr>\n",
       "      <th>1004670</th>\n",
       "      <td>HOUSEHOLD_2_454_WI_3_evaluation</td>\n",
       "      <td>HOUSEHOLD_2_454</td>\n",
       "      <td>HOUSEHOLD_2</td>\n",
       "      <td>HOUSEHOLD</td>\n",
       "      <td>WI_3</td>\n",
       "      <td>WI</td>\n",
       "      <td>d_33</td>\n",
       "      <td>0</td>\n",
       "      <td>2011-03-02</td>\n",
       "      <td>11105</td>\n",
       "      <td>d_33</td>\n",
       "    </tr>\n",
       "    <tr>\n",
       "      <th>31609449</th>\n",
       "      <td>HOBBIES_2_051_WI_1_evaluation</td>\n",
       "      <td>HOBBIES_2_051</td>\n",
       "      <td>HOBBIES_2</td>\n",
       "      <td>HOBBIES</td>\n",
       "      <td>WI_1</td>\n",
       "      <td>WI</td>\n",
       "      <td>d_1037</td>\n",
       "      <td>0</td>\n",
       "      <td>2013-11-30</td>\n",
       "      <td>11345</td>\n",
       "      <td>d_1037</td>\n",
       "    </tr>\n",
       "  </tbody>\n",
       "</table>\n",
       "</div>"
      ],
      "text/plain": [
       "                                       id          item_id      dept_id  \\\n",
       "38274168    HOBBIES_1_074_CA_4_evaluation    HOBBIES_1_074    HOBBIES_1   \n",
       "1004670   HOUSEHOLD_2_454_WI_3_evaluation  HOUSEHOLD_2_454  HOUSEHOLD_2   \n",
       "31609449    HOBBIES_2_051_WI_1_evaluation    HOBBIES_2_051    HOBBIES_2   \n",
       "\n",
       "             cat_id store_id state_id dayofsale  volume        date  wm_yr_wk  \\\n",
       "38274168    HOBBIES     CA_4       CA    d_1256       1  2014-07-07     11423   \n",
       "1004670   HOUSEHOLD     WI_3       WI      d_33       0  2011-03-02     11105   \n",
       "31609449    HOBBIES     WI_1       WI    d_1037       0  2013-11-30     11345   \n",
       "\n",
       "               d  \n",
       "38274168  d_1256  \n",
       "1004670     d_33  \n",
       "31609449  d_1037  "
      ]
     },
     "execution_count": 16,
     "metadata": {},
     "output_type": "execute_result"
    }
   ],
   "source": [
    "# Merging the training and calendar dataframes using the sales day information \n",
    "df_train_calender_merged = df_train.merge(df_calendar, left_on='dayofsale', right_on='d', how='left')\n",
    "\n",
    "# Checking few records after combining the training and calendar dataframes\n",
    "df_train_calender_merged.sample(3)"
   ]
  },
  {
   "cell_type": "markdown",
   "metadata": {},
   "source": [
    "• Combining the training and calendar events dataframes based on the date information."
   ]
  },
  {
   "cell_type": "code",
   "execution_count": 17,
   "metadata": {},
   "outputs": [
    {
     "data": {
      "text/html": [
       "<div>\n",
       "<style scoped>\n",
       "    .dataframe tbody tr th:only-of-type {\n",
       "        vertical-align: middle;\n",
       "    }\n",
       "\n",
       "    .dataframe tbody tr th {\n",
       "        vertical-align: top;\n",
       "    }\n",
       "\n",
       "    .dataframe thead th {\n",
       "        text-align: right;\n",
       "    }\n",
       "</style>\n",
       "<table border=\"1\" class=\"dataframe\">\n",
       "  <thead>\n",
       "    <tr style=\"text-align: right;\">\n",
       "      <th></th>\n",
       "      <th>id</th>\n",
       "      <th>item_id</th>\n",
       "      <th>dept_id</th>\n",
       "      <th>cat_id</th>\n",
       "      <th>store_id</th>\n",
       "      <th>state_id</th>\n",
       "      <th>dayofsale</th>\n",
       "      <th>volume</th>\n",
       "      <th>date</th>\n",
       "      <th>wm_yr_wk</th>\n",
       "      <th>d</th>\n",
       "      <th>event_name</th>\n",
       "      <th>event_type</th>\n",
       "    </tr>\n",
       "  </thead>\n",
       "  <tbody>\n",
       "    <tr>\n",
       "      <th>30227042</th>\n",
       "      <td>FOODS_3_081_CA_4_evaluation</td>\n",
       "      <td>FOODS_3_081</td>\n",
       "      <td>FOODS_3</td>\n",
       "      <td>FOODS</td>\n",
       "      <td>CA_4</td>\n",
       "      <td>CA</td>\n",
       "      <td>d_990</td>\n",
       "      <td>0</td>\n",
       "      <td>2013-10-14</td>\n",
       "      <td>11338</td>\n",
       "      <td>d_990</td>\n",
       "      <td>ColumbusDay</td>\n",
       "      <td>National</td>\n",
       "    </tr>\n",
       "    <tr>\n",
       "      <th>31143452</th>\n",
       "      <td>HOUSEHOLD_1_411_TX_1_evaluation</td>\n",
       "      <td>HOUSEHOLD_1_411</td>\n",
       "      <td>HOUSEHOLD_1</td>\n",
       "      <td>HOUSEHOLD</td>\n",
       "      <td>TX_1</td>\n",
       "      <td>TX</td>\n",
       "      <td>d_1020</td>\n",
       "      <td>0</td>\n",
       "      <td>2013-11-13</td>\n",
       "      <td>11342</td>\n",
       "      <td>d_1020</td>\n",
       "      <td>NaN</td>\n",
       "      <td>NaN</td>\n",
       "    </tr>\n",
       "    <tr>\n",
       "      <th>38232410</th>\n",
       "      <td>HOUSEHOLD_1_444_WI_3_evaluation</td>\n",
       "      <td>HOUSEHOLD_1_444</td>\n",
       "      <td>HOUSEHOLD_1</td>\n",
       "      <td>HOUSEHOLD</td>\n",
       "      <td>WI_3</td>\n",
       "      <td>WI</td>\n",
       "      <td>d_1250</td>\n",
       "      <td>0</td>\n",
       "      <td>2014-07-01</td>\n",
       "      <td>11422</td>\n",
       "      <td>d_1250</td>\n",
       "      <td>NaN</td>\n",
       "      <td>NaN</td>\n",
       "    </tr>\n",
       "  </tbody>\n",
       "</table>\n",
       "</div>"
      ],
      "text/plain": [
       "                                       id          item_id      dept_id  \\\n",
       "30227042      FOODS_3_081_CA_4_evaluation      FOODS_3_081      FOODS_3   \n",
       "31143452  HOUSEHOLD_1_411_TX_1_evaluation  HOUSEHOLD_1_411  HOUSEHOLD_1   \n",
       "38232410  HOUSEHOLD_1_444_WI_3_evaluation  HOUSEHOLD_1_444  HOUSEHOLD_1   \n",
       "\n",
       "             cat_id store_id state_id dayofsale  volume        date  wm_yr_wk  \\\n",
       "30227042      FOODS     CA_4       CA     d_990       0  2013-10-14     11338   \n",
       "31143452  HOUSEHOLD     TX_1       TX    d_1020       0  2013-11-13     11342   \n",
       "38232410  HOUSEHOLD     WI_3       WI    d_1250       0  2014-07-01     11422   \n",
       "\n",
       "               d   event_name event_type  \n",
       "30227042   d_990  ColumbusDay   National  \n",
       "31143452  d_1020          NaN        NaN  \n",
       "38232410  d_1250          NaN        NaN  "
      ]
     },
     "execution_count": 17,
     "metadata": {},
     "output_type": "execute_result"
    }
   ],
   "source": [
    "# Merging the training and calendar events dataframes based on the date information \n",
    "df_train_calender_events_merged = df_train_calender_merged.merge(df_calendar_events, left_on='date', right_on='date', how='left')\n",
    "\n",
    "# Checking few records after combining the training and calendar events dataframes\n",
    "df_train_calender_events_merged.sample(3)"
   ]
  },
  {
   "cell_type": "markdown",
   "metadata": {},
   "source": [
    "• Combining the training and sell prices dataframes based on the common attributes."
   ]
  },
  {
   "cell_type": "code",
   "execution_count": 18,
   "metadata": {},
   "outputs": [
    {
     "data": {
      "text/html": [
       "<div>\n",
       "<style scoped>\n",
       "    .dataframe tbody tr th:only-of-type {\n",
       "        vertical-align: middle;\n",
       "    }\n",
       "\n",
       "    .dataframe tbody tr th {\n",
       "        vertical-align: top;\n",
       "    }\n",
       "\n",
       "    .dataframe thead th {\n",
       "        text-align: right;\n",
       "    }\n",
       "</style>\n",
       "<table border=\"1\" class=\"dataframe\">\n",
       "  <thead>\n",
       "    <tr style=\"text-align: right;\">\n",
       "      <th></th>\n",
       "      <th>id</th>\n",
       "      <th>item_id</th>\n",
       "      <th>dept_id</th>\n",
       "      <th>cat_id</th>\n",
       "      <th>store_id</th>\n",
       "      <th>state_id</th>\n",
       "      <th>dayofsale</th>\n",
       "      <th>volume</th>\n",
       "      <th>date</th>\n",
       "      <th>wm_yr_wk</th>\n",
       "      <th>d</th>\n",
       "      <th>event_name</th>\n",
       "      <th>event_type</th>\n",
       "      <th>sell_price</th>\n",
       "    </tr>\n",
       "  </thead>\n",
       "  <tbody>\n",
       "    <tr>\n",
       "      <th>22602702</th>\n",
       "      <td>HOBBIES_2_050_CA_4_evaluation</td>\n",
       "      <td>HOBBIES_2_050</td>\n",
       "      <td>HOBBIES_2</td>\n",
       "      <td>HOBBIES</td>\n",
       "      <td>CA_4</td>\n",
       "      <td>CA</td>\n",
       "      <td>d_741</td>\n",
       "      <td>0</td>\n",
       "      <td>2013-02-07</td>\n",
       "      <td>11302</td>\n",
       "      <td>d_741</td>\n",
       "      <td>NaN</td>\n",
       "      <td>NaN</td>\n",
       "      <td>1.97</td>\n",
       "    </tr>\n",
       "    <tr>\n",
       "      <th>3503255</th>\n",
       "      <td>FOODS_3_782_WI_2_evaluation</td>\n",
       "      <td>FOODS_3_782</td>\n",
       "      <td>FOODS_3</td>\n",
       "      <td>FOODS</td>\n",
       "      <td>WI_2</td>\n",
       "      <td>WI</td>\n",
       "      <td>d_114</td>\n",
       "      <td>0</td>\n",
       "      <td>2011-05-22</td>\n",
       "      <td>11117</td>\n",
       "      <td>d_114</td>\n",
       "      <td>NaN</td>\n",
       "      <td>NaN</td>\n",
       "      <td>2.48</td>\n",
       "    </tr>\n",
       "    <tr>\n",
       "      <th>20917740</th>\n",
       "      <td>HOUSEHOLD_2_505_CA_1_evaluation</td>\n",
       "      <td>HOUSEHOLD_2_505</td>\n",
       "      <td>HOUSEHOLD_2</td>\n",
       "      <td>HOUSEHOLD</td>\n",
       "      <td>CA_1</td>\n",
       "      <td>CA</td>\n",
       "      <td>d_686</td>\n",
       "      <td>1</td>\n",
       "      <td>2012-12-14</td>\n",
       "      <td>11246</td>\n",
       "      <td>d_686</td>\n",
       "      <td>NaN</td>\n",
       "      <td>NaN</td>\n",
       "      <td>4.97</td>\n",
       "    </tr>\n",
       "  </tbody>\n",
       "</table>\n",
       "</div>"
      ],
      "text/plain": [
       "                                       id          item_id      dept_id  \\\n",
       "22602702    HOBBIES_2_050_CA_4_evaluation    HOBBIES_2_050    HOBBIES_2   \n",
       "3503255       FOODS_3_782_WI_2_evaluation      FOODS_3_782      FOODS_3   \n",
       "20917740  HOUSEHOLD_2_505_CA_1_evaluation  HOUSEHOLD_2_505  HOUSEHOLD_2   \n",
       "\n",
       "             cat_id store_id state_id dayofsale  volume        date  wm_yr_wk  \\\n",
       "22602702    HOBBIES     CA_4       CA     d_741       0  2013-02-07     11302   \n",
       "3503255       FOODS     WI_2       WI     d_114       0  2011-05-22     11117   \n",
       "20917740  HOUSEHOLD     CA_1       CA     d_686       1  2012-12-14     11246   \n",
       "\n",
       "              d event_name event_type  sell_price  \n",
       "22602702  d_741        NaN        NaN        1.97  \n",
       "3503255   d_114        NaN        NaN        2.48  \n",
       "20917740  d_686        NaN        NaN        4.97  "
      ]
     },
     "execution_count": 18,
     "metadata": {},
     "output_type": "execute_result"
    }
   ],
   "source": [
    "# Merging the training and sell prices dataframes based on the relavant information\n",
    "df_train_final = df_train_calender_events_merged.merge(df_sell_prices, left_on=['store_id', 'item_id', 'wm_yr_wk'], \n",
    "                                                                       right_on=['store_id','item_id','wm_yr_wk'], \n",
    "                                                                       how='left')\n",
    "\n",
    "# Checking few records after combining the training and sell prices dataframes\n",
    "df_train_final.sample(3)"
   ]
  },
  {
   "cell_type": "markdown",
   "metadata": {},
   "source": [
    "### • Data Preparation\n",
    "\n",
    "#### 4] Feature Engineering"
   ]
  },
  {
   "cell_type": "markdown",
   "metadata": {},
   "source": [
    "• Determining the income generated from item sales and the item's weekly selling price."
   ]
  },
  {
   "cell_type": "code",
   "execution_count": 19,
   "metadata": {},
   "outputs": [
    {
     "data": {
      "text/html": [
       "<div>\n",
       "<style scoped>\n",
       "    .dataframe tbody tr th:only-of-type {\n",
       "        vertical-align: middle;\n",
       "    }\n",
       "\n",
       "    .dataframe tbody tr th {\n",
       "        vertical-align: top;\n",
       "    }\n",
       "\n",
       "    .dataframe thead th {\n",
       "        text-align: right;\n",
       "    }\n",
       "</style>\n",
       "<table border=\"1\" class=\"dataframe\">\n",
       "  <thead>\n",
       "    <tr style=\"text-align: right;\">\n",
       "      <th></th>\n",
       "      <th>id</th>\n",
       "      <th>item_id</th>\n",
       "      <th>dept_id</th>\n",
       "      <th>cat_id</th>\n",
       "      <th>store_id</th>\n",
       "      <th>state_id</th>\n",
       "      <th>dayofsale</th>\n",
       "      <th>volume</th>\n",
       "      <th>date</th>\n",
       "      <th>wm_yr_wk</th>\n",
       "      <th>d</th>\n",
       "      <th>event_name</th>\n",
       "      <th>event_type</th>\n",
       "      <th>sell_price</th>\n",
       "      <th>revenue</th>\n",
       "    </tr>\n",
       "  </thead>\n",
       "  <tbody>\n",
       "    <tr>\n",
       "      <th>39902738</th>\n",
       "      <td>HOBBIES_2_060_WI_1_evaluation</td>\n",
       "      <td>HOBBIES_2_060</td>\n",
       "      <td>HOBBIES_2</td>\n",
       "      <td>HOBBIES</td>\n",
       "      <td>WI_1</td>\n",
       "      <td>WI</td>\n",
       "      <td>d_1305</td>\n",
       "      <td>0</td>\n",
       "      <td>2014-08-25</td>\n",
       "      <td>11430</td>\n",
       "      <td>d_1305</td>\n",
       "      <td>NaN</td>\n",
       "      <td>NaN</td>\n",
       "      <td>0.97</td>\n",
       "      <td>0.00</td>\n",
       "    </tr>\n",
       "    <tr>\n",
       "      <th>17895153</th>\n",
       "      <td>HOUSEHOLD_1_008_WI_3_evaluation</td>\n",
       "      <td>HOUSEHOLD_1_008</td>\n",
       "      <td>HOUSEHOLD_1</td>\n",
       "      <td>HOUSEHOLD</td>\n",
       "      <td>WI_3</td>\n",
       "      <td>WI</td>\n",
       "      <td>d_586</td>\n",
       "      <td>3</td>\n",
       "      <td>2012-09-05</td>\n",
       "      <td>11232</td>\n",
       "      <td>d_586</td>\n",
       "      <td>NaN</td>\n",
       "      <td>NaN</td>\n",
       "      <td>5.47</td>\n",
       "      <td>16.41</td>\n",
       "    </tr>\n",
       "    <tr>\n",
       "      <th>135893</th>\n",
       "      <td>FOODS_1_128_TX_1_evaluation</td>\n",
       "      <td>FOODS_1_128</td>\n",
       "      <td>FOODS_1</td>\n",
       "      <td>FOODS</td>\n",
       "      <td>TX_1</td>\n",
       "      <td>TX</td>\n",
       "      <td>d_5</td>\n",
       "      <td>1</td>\n",
       "      <td>2011-02-02</td>\n",
       "      <td>11101</td>\n",
       "      <td>d_5</td>\n",
       "      <td>NaN</td>\n",
       "      <td>NaN</td>\n",
       "      <td>3.18</td>\n",
       "      <td>3.18</td>\n",
       "    </tr>\n",
       "  </tbody>\n",
       "</table>\n",
       "</div>"
      ],
      "text/plain": [
       "                                       id          item_id      dept_id  \\\n",
       "39902738    HOBBIES_2_060_WI_1_evaluation    HOBBIES_2_060    HOBBIES_2   \n",
       "17895153  HOUSEHOLD_1_008_WI_3_evaluation  HOUSEHOLD_1_008  HOUSEHOLD_1   \n",
       "135893        FOODS_1_128_TX_1_evaluation      FOODS_1_128      FOODS_1   \n",
       "\n",
       "             cat_id store_id state_id dayofsale  volume        date  wm_yr_wk  \\\n",
       "39902738    HOBBIES     WI_1       WI    d_1305       0  2014-08-25     11430   \n",
       "17895153  HOUSEHOLD     WI_3       WI     d_586       3  2012-09-05     11232   \n",
       "135893        FOODS     TX_1       TX       d_5       1  2011-02-02     11101   \n",
       "\n",
       "               d event_name event_type  sell_price  revenue  \n",
       "39902738  d_1305        NaN        NaN        0.97     0.00  \n",
       "17895153   d_586        NaN        NaN        5.47    16.41  \n",
       "135893       d_5        NaN        NaN        3.18     3.18  "
      ]
     },
     "execution_count": 19,
     "metadata": {},
     "output_type": "execute_result"
    }
   ],
   "source": [
    "# Calculating the revenue from the items sold and the item's weekly selling price\n",
    "df_train_final['revenue'] = df_train_final['volume'] * df_train_final['sell_price']\n",
    "df_train_final.sample(3)"
   ]
  },
  {
   "cell_type": "markdown",
   "metadata": {},
   "source": [
    "• Checking the summary overview of the dataset."
   ]
  },
  {
   "cell_type": "code",
   "execution_count": 20,
   "metadata": {},
   "outputs": [
    {
     "name": "stdout",
     "output_type": "stream",
     "text": [
      "<class 'pandas.core.frame.DataFrame'>\n",
      "Int64Index: 47107050 entries, 0 to 47107049\n",
      "Data columns (total 15 columns):\n",
      " #   Column      Dtype  \n",
      "---  ------      -----  \n",
      " 0   id          object \n",
      " 1   item_id     object \n",
      " 2   dept_id     object \n",
      " 3   cat_id      object \n",
      " 4   store_id    object \n",
      " 5   state_id    object \n",
      " 6   dayofsale   object \n",
      " 7   volume      int64  \n",
      " 8   date        object \n",
      " 9   wm_yr_wk    int64  \n",
      " 10  d           object \n",
      " 11  event_name  object \n",
      " 12  event_type  object \n",
      " 13  sell_price  float64\n",
      " 14  revenue     float64\n",
      "dtypes: float64(2), int64(2), object(11)\n",
      "memory usage: 5.6+ GB\n"
     ]
    }
   ],
   "source": [
    "# Checking the summary information of the attributes of the dataset\n",
    "df_train_final.info()"
   ]
  },
  {
   "cell_type": "markdown",
   "metadata": {},
   "source": [
    "• Checking summary statistics of the dataset."
   ]
  },
  {
   "cell_type": "code",
   "execution_count": 21,
   "metadata": {},
   "outputs": [
    {
     "data": {
      "text/html": [
       "<div>\n",
       "<style scoped>\n",
       "    .dataframe tbody tr th:only-of-type {\n",
       "        vertical-align: middle;\n",
       "    }\n",
       "\n",
       "    .dataframe tbody tr th {\n",
       "        vertical-align: top;\n",
       "    }\n",
       "\n",
       "    .dataframe thead th {\n",
       "        text-align: right;\n",
       "    }\n",
       "</style>\n",
       "<table border=\"1\" class=\"dataframe\">\n",
       "  <thead>\n",
       "    <tr style=\"text-align: right;\">\n",
       "      <th></th>\n",
       "      <th>id</th>\n",
       "      <th>item_id</th>\n",
       "      <th>dept_id</th>\n",
       "      <th>cat_id</th>\n",
       "      <th>store_id</th>\n",
       "      <th>state_id</th>\n",
       "      <th>dayofsale</th>\n",
       "      <th>volume</th>\n",
       "      <th>date</th>\n",
       "      <th>wm_yr_wk</th>\n",
       "      <th>d</th>\n",
       "      <th>event_name</th>\n",
       "      <th>event_type</th>\n",
       "      <th>sell_price</th>\n",
       "      <th>revenue</th>\n",
       "    </tr>\n",
       "  </thead>\n",
       "  <tbody>\n",
       "    <tr>\n",
       "      <th>count</th>\n",
       "      <td>47107050</td>\n",
       "      <td>47107050</td>\n",
       "      <td>47107050</td>\n",
       "      <td>47107050</td>\n",
       "      <td>47107050</td>\n",
       "      <td>47107050</td>\n",
       "      <td>47107050</td>\n",
       "      <td>4.710705e+07</td>\n",
       "      <td>47107050</td>\n",
       "      <td>4.710705e+07</td>\n",
       "      <td>47107050</td>\n",
       "      <td>3963700</td>\n",
       "      <td>3963700</td>\n",
       "      <td>3.481517e+07</td>\n",
       "      <td>3.481517e+07</td>\n",
       "    </tr>\n",
       "    <tr>\n",
       "      <th>unique</th>\n",
       "      <td>30490</td>\n",
       "      <td>3049</td>\n",
       "      <td>7</td>\n",
       "      <td>3</td>\n",
       "      <td>10</td>\n",
       "      <td>3</td>\n",
       "      <td>1541</td>\n",
       "      <td>NaN</td>\n",
       "      <td>1541</td>\n",
       "      <td>NaN</td>\n",
       "      <td>1541</td>\n",
       "      <td>30</td>\n",
       "      <td>4</td>\n",
       "      <td>NaN</td>\n",
       "      <td>NaN</td>\n",
       "    </tr>\n",
       "    <tr>\n",
       "      <th>top</th>\n",
       "      <td>HOBBIES_1_001_CA_1_evaluation</td>\n",
       "      <td>HOBBIES_1_001</td>\n",
       "      <td>FOODS_3</td>\n",
       "      <td>FOODS</td>\n",
       "      <td>CA_1</td>\n",
       "      <td>CA</td>\n",
       "      <td>d_86</td>\n",
       "      <td>NaN</td>\n",
       "      <td>2011-04-24</td>\n",
       "      <td>NaN</td>\n",
       "      <td>d_86</td>\n",
       "      <td>SuperBowl</td>\n",
       "      <td>Religious</td>\n",
       "      <td>NaN</td>\n",
       "      <td>NaN</td>\n",
       "    </tr>\n",
       "    <tr>\n",
       "      <th>freq</th>\n",
       "      <td>1545</td>\n",
       "      <td>15450</td>\n",
       "      <td>12715350</td>\n",
       "      <td>22201650</td>\n",
       "      <td>4710705</td>\n",
       "      <td>18842820</td>\n",
       "      <td>60980</td>\n",
       "      <td>NaN</td>\n",
       "      <td>60980</td>\n",
       "      <td>NaN</td>\n",
       "      <td>60980</td>\n",
       "      <td>152450</td>\n",
       "      <td>1372050</td>\n",
       "      <td>NaN</td>\n",
       "      <td>NaN</td>\n",
       "    </tr>\n",
       "    <tr>\n",
       "      <th>mean</th>\n",
       "      <td>NaN</td>\n",
       "      <td>NaN</td>\n",
       "      <td>NaN</td>\n",
       "      <td>NaN</td>\n",
       "      <td>NaN</td>\n",
       "      <td>NaN</td>\n",
       "      <td>NaN</td>\n",
       "      <td>1.087059e+00</td>\n",
       "      <td>NaN</td>\n",
       "      <td>1.128854e+04</td>\n",
       "      <td>NaN</td>\n",
       "      <td>NaN</td>\n",
       "      <td>NaN</td>\n",
       "      <td>4.383812e+00</td>\n",
       "      <td>4.102582e+00</td>\n",
       "    </tr>\n",
       "    <tr>\n",
       "      <th>std</th>\n",
       "      <td>NaN</td>\n",
       "      <td>NaN</td>\n",
       "      <td>NaN</td>\n",
       "      <td>NaN</td>\n",
       "      <td>NaN</td>\n",
       "      <td>NaN</td>\n",
       "      <td>NaN</td>\n",
       "      <td>3.934360e+00</td>\n",
       "      <td>NaN</td>\n",
       "      <td>1.207423e+02</td>\n",
       "      <td>NaN</td>\n",
       "      <td>NaN</td>\n",
       "      <td>NaN</td>\n",
       "      <td>3.358256e+00</td>\n",
       "      <td>1.046314e+01</td>\n",
       "    </tr>\n",
       "    <tr>\n",
       "      <th>min</th>\n",
       "      <td>NaN</td>\n",
       "      <td>NaN</td>\n",
       "      <td>NaN</td>\n",
       "      <td>NaN</td>\n",
       "      <td>NaN</td>\n",
       "      <td>NaN</td>\n",
       "      <td>NaN</td>\n",
       "      <td>0.000000e+00</td>\n",
       "      <td>NaN</td>\n",
       "      <td>1.110100e+04</td>\n",
       "      <td>NaN</td>\n",
       "      <td>NaN</td>\n",
       "      <td>NaN</td>\n",
       "      <td>1.000000e-02</td>\n",
       "      <td>0.000000e+00</td>\n",
       "    </tr>\n",
       "    <tr>\n",
       "      <th>25%</th>\n",
       "      <td>NaN</td>\n",
       "      <td>NaN</td>\n",
       "      <td>NaN</td>\n",
       "      <td>NaN</td>\n",
       "      <td>NaN</td>\n",
       "      <td>NaN</td>\n",
       "      <td>NaN</td>\n",
       "      <td>0.000000e+00</td>\n",
       "      <td>NaN</td>\n",
       "      <td>1.120400e+04</td>\n",
       "      <td>NaN</td>\n",
       "      <td>NaN</td>\n",
       "      <td>NaN</td>\n",
       "      <td>2.080000e+00</td>\n",
       "      <td>0.000000e+00</td>\n",
       "    </tr>\n",
       "    <tr>\n",
       "      <th>50%</th>\n",
       "      <td>NaN</td>\n",
       "      <td>NaN</td>\n",
       "      <td>NaN</td>\n",
       "      <td>NaN</td>\n",
       "      <td>NaN</td>\n",
       "      <td>NaN</td>\n",
       "      <td>NaN</td>\n",
       "      <td>0.000000e+00</td>\n",
       "      <td>NaN</td>\n",
       "      <td>1.130700e+04</td>\n",
       "      <td>NaN</td>\n",
       "      <td>NaN</td>\n",
       "      <td>NaN</td>\n",
       "      <td>3.440000e+00</td>\n",
       "      <td>0.000000e+00</td>\n",
       "    </tr>\n",
       "    <tr>\n",
       "      <th>75%</th>\n",
       "      <td>NaN</td>\n",
       "      <td>NaN</td>\n",
       "      <td>NaN</td>\n",
       "      <td>NaN</td>\n",
       "      <td>NaN</td>\n",
       "      <td>NaN</td>\n",
       "      <td>NaN</td>\n",
       "      <td>1.000000e+00</td>\n",
       "      <td>NaN</td>\n",
       "      <td>1.140900e+04</td>\n",
       "      <td>NaN</td>\n",
       "      <td>NaN</td>\n",
       "      <td>NaN</td>\n",
       "      <td>5.840000e+00</td>\n",
       "      <td>4.850000e+00</td>\n",
       "    </tr>\n",
       "    <tr>\n",
       "      <th>max</th>\n",
       "      <td>NaN</td>\n",
       "      <td>NaN</td>\n",
       "      <td>NaN</td>\n",
       "      <td>NaN</td>\n",
       "      <td>NaN</td>\n",
       "      <td>NaN</td>\n",
       "      <td>NaN</td>\n",
       "      <td>7.630000e+02</td>\n",
       "      <td>NaN</td>\n",
       "      <td>1.151200e+04</td>\n",
       "      <td>NaN</td>\n",
       "      <td>NaN</td>\n",
       "      <td>NaN</td>\n",
       "      <td>1.073200e+02</td>\n",
       "      <td>2.164320e+03</td>\n",
       "    </tr>\n",
       "  </tbody>\n",
       "</table>\n",
       "</div>"
      ],
      "text/plain": [
       "                                   id        item_id   dept_id    cat_id  \\\n",
       "count                        47107050       47107050  47107050  47107050   \n",
       "unique                          30490           3049         7         3   \n",
       "top     HOBBIES_1_001_CA_1_evaluation  HOBBIES_1_001   FOODS_3     FOODS   \n",
       "freq                             1545          15450  12715350  22201650   \n",
       "mean                              NaN            NaN       NaN       NaN   \n",
       "std                               NaN            NaN       NaN       NaN   \n",
       "min                               NaN            NaN       NaN       NaN   \n",
       "25%                               NaN            NaN       NaN       NaN   \n",
       "50%                               NaN            NaN       NaN       NaN   \n",
       "75%                               NaN            NaN       NaN       NaN   \n",
       "max                               NaN            NaN       NaN       NaN   \n",
       "\n",
       "        store_id  state_id dayofsale        volume        date      wm_yr_wk  \\\n",
       "count   47107050  47107050  47107050  4.710705e+07    47107050  4.710705e+07   \n",
       "unique        10         3      1541           NaN        1541           NaN   \n",
       "top         CA_1        CA      d_86           NaN  2011-04-24           NaN   \n",
       "freq     4710705  18842820     60980           NaN       60980           NaN   \n",
       "mean         NaN       NaN       NaN  1.087059e+00         NaN  1.128854e+04   \n",
       "std          NaN       NaN       NaN  3.934360e+00         NaN  1.207423e+02   \n",
       "min          NaN       NaN       NaN  0.000000e+00         NaN  1.110100e+04   \n",
       "25%          NaN       NaN       NaN  0.000000e+00         NaN  1.120400e+04   \n",
       "50%          NaN       NaN       NaN  0.000000e+00         NaN  1.130700e+04   \n",
       "75%          NaN       NaN       NaN  1.000000e+00         NaN  1.140900e+04   \n",
       "max          NaN       NaN       NaN  7.630000e+02         NaN  1.151200e+04   \n",
       "\n",
       "               d event_name event_type    sell_price       revenue  \n",
       "count   47107050    3963700    3963700  3.481517e+07  3.481517e+07  \n",
       "unique      1541         30          4           NaN           NaN  \n",
       "top         d_86  SuperBowl  Religious           NaN           NaN  \n",
       "freq       60980     152450    1372050           NaN           NaN  \n",
       "mean         NaN        NaN        NaN  4.383812e+00  4.102582e+00  \n",
       "std          NaN        NaN        NaN  3.358256e+00  1.046314e+01  \n",
       "min          NaN        NaN        NaN  1.000000e-02  0.000000e+00  \n",
       "25%          NaN        NaN        NaN  2.080000e+00  0.000000e+00  \n",
       "50%          NaN        NaN        NaN  3.440000e+00  0.000000e+00  \n",
       "75%          NaN        NaN        NaN  5.840000e+00  4.850000e+00  \n",
       "max          NaN        NaN        NaN  1.073200e+02  2.164320e+03  "
      ]
     },
     "execution_count": 21,
     "metadata": {},
     "output_type": "execute_result"
    }
   ],
   "source": [
    "# Inspecting statistical summary information for all dataset attributes of different data types\n",
    "df_train_final.describe(include='all')"
   ]
  },
  {
   "cell_type": "markdown",
   "metadata": {},
   "source": [
    "#### 5] Features Selection"
   ]
  },
  {
   "cell_type": "markdown",
   "metadata": {},
   "source": [
    "• Selecting the appropriate attributes."
   ]
  },
  {
   "cell_type": "code",
   "execution_count": 22,
   "metadata": {},
   "outputs": [],
   "source": [
    "# Creating a copy of the df_train_final and storing it in a dataframe named df_retailer_data\n",
    "df_retailer_data = df_train_final.copy()"
   ]
  },
  {
   "cell_type": "code",
   "execution_count": 23,
   "metadata": {},
   "outputs": [],
   "source": [
    "# Selecting the relavant features\n",
    "df_selected_features = ['item_id', 'store_id', 'date', 'event_name', 'event_type', 'revenue']\n",
    "df_retailer_data = df_retailer_data[df_selected_features]"
   ]
  },
  {
   "cell_type": "markdown",
   "metadata": {},
   "source": [
    "• Inspecting if any missing values in the selected features."
   ]
  },
  {
   "cell_type": "code",
   "execution_count": 24,
   "metadata": {},
   "outputs": [
    {
     "data": {
      "text/plain": [
       "item_id              0\n",
       "store_id             0\n",
       "date                 0\n",
       "event_name    43143350\n",
       "event_type    43143350\n",
       "revenue       12291876\n",
       "dtype: int64"
      ]
     },
     "execution_count": 24,
     "metadata": {},
     "output_type": "execute_result"
    }
   ],
   "source": [
    "# Checking whether there are any missing values in the dataset.\n",
    "df_retailer_data.isna().sum()"
   ]
  },
  {
   "cell_type": "markdown",
   "metadata": {},
   "source": [
    "• Replacing missing values in the features 'event_name' and 'event_type' with None."
   ]
  },
  {
   "cell_type": "code",
   "execution_count": 25,
   "metadata": {},
   "outputs": [],
   "source": [
    "# Invoking the function for the 'event_name' column\n",
    "imputing_missing_values(df_retailer_data, 'event_name')\n",
    "imputing_missing_values(df_retailer_data, 'event_type')"
   ]
  },
  {
   "cell_type": "markdown",
   "metadata": {},
   "source": [
    "• Replacing missing values in the target 'revenue' feature with 0."
   ]
  },
  {
   "cell_type": "code",
   "execution_count": 26,
   "metadata": {},
   "outputs": [],
   "source": [
    "# Invoking the function for the 'revenue' column\n",
    "imputing_missing_values(df_retailer_data, 'revenue')"
   ]
  },
  {
   "cell_type": "markdown",
   "metadata": {},
   "source": [
    "• Verifying the missing values in the dataset following imputing process."
   ]
  },
  {
   "cell_type": "code",
   "execution_count": 27,
   "metadata": {},
   "outputs": [
    {
     "data": {
      "text/plain": [
       "item_id       0\n",
       "store_id      0\n",
       "date          0\n",
       "event_name    0\n",
       "event_type    0\n",
       "revenue       0\n",
       "dtype: int64"
      ]
     },
     "execution_count": 27,
     "metadata": {},
     "output_type": "execute_result"
    }
   ],
   "source": [
    "# Verifying the missing values in the dataset post imputing process\n",
    "df_retailer_data.isna().sum()"
   ]
  },
  {
   "cell_type": "markdown",
   "metadata": {},
   "source": [
    "#### 6] Splitting Data into Different Sets"
   ]
  },
  {
   "cell_type": "markdown",
   "metadata": {},
   "source": [
    "• Dividing the retailer data into training sets (from 2011 to 2014) and validation sets (from 2014 to 2016)."
   ]
  },
  {
   "cell_type": "code",
   "execution_count": 28,
   "metadata": {},
   "outputs": [],
   "source": [
    "# Converting the 'date' attribute to a datetime datatype\n",
    "df_retailer_data['date'] = pd.to_datetime(df_retailer_data['date'])"
   ]
  },
  {
   "cell_type": "code",
   "execution_count": 29,
   "metadata": {},
   "outputs": [],
   "source": [
    "# Spliting the retailer data into training (spanning from 2011 to 2014) and validation (covering the period from 2014 to 2016) datasets\n",
    "df_training = df_retailer_data[(df_retailer_data['date'] >= '2011-01-01') & (df_retailer_data['date'] <= '2014-12-31')]\n",
    "df_validation = df_retailer_data[(df_retailer_data['date'] >= '2015-01-01') & (df_retailer_data['date'] <= '2016-12-31')]"
   ]
  },
  {
   "cell_type": "markdown",
   "metadata": {},
   "source": [
    "• Deriving different date-related attributes from the date feature."
   ]
  },
  {
   "cell_type": "code",
   "execution_count": 30,
   "metadata": {},
   "outputs": [],
   "source": [
    "# Invoking the function to extract date components\n",
    "# Extracting the day of the week, month, year, and week of the year information\n",
    "extract_date_components(df_training, 'date')\n",
    "extract_date_components(df_validation, 'date')"
   ]
  },
  {
   "cell_type": "markdown",
   "metadata": {},
   "source": [
    "• Verifying dimensions and attribute names of the datasets following the splitting process."
   ]
  },
  {
   "cell_type": "code",
   "execution_count": 31,
   "metadata": {},
   "outputs": [
    {
     "name": "stdout",
     "output_type": "stream",
     "text": [
      "Training dataset: (43814130, 10)\n",
      "Validation dataset: (3292920, 10)\n"
     ]
    }
   ],
   "source": [
    "# Confirming the dimensions of the datasets post splitting\n",
    "print('Training dataset:', df_training.shape)\n",
    "print('Validation dataset:', df_validation.shape)"
   ]
  },
  {
   "cell_type": "code",
   "execution_count": 32,
   "metadata": {},
   "outputs": [
    {
     "name": "stdout",
     "output_type": "stream",
     "text": [
      "Training dataset: Index(['item_id', 'store_id', 'date', 'event_name', 'event_type', 'revenue',\n",
      "       'day_of_week', 'month', 'year', 'week_of_year'],\n",
      "      dtype='object')\n",
      "Validation dataset: Index(['item_id', 'store_id', 'date', 'event_name', 'event_type', 'revenue',\n",
      "       'day_of_week', 'month', 'year', 'week_of_year'],\n",
      "      dtype='object')\n"
     ]
    }
   ],
   "source": [
    "# Checking the attributes names of the datasets post splitting\n",
    "print('Training dataset:', df_training.columns)\n",
    "print('Validation dataset:', df_validation.columns)"
   ]
  },
  {
   "cell_type": "markdown",
   "metadata": {},
   "source": [
    "• Saving the training and validation datasets to a CSV file."
   ]
  },
  {
   "cell_type": "code",
   "execution_count": 33,
   "metadata": {},
   "outputs": [],
   "source": [
    "# Loading the training and validation datasets to the csv file\n",
    "df_training.to_csv(file_url + '/data/processed/retail_training_dataset.csv', index=False)\n",
    "df_validation.to_csv(file_url + '/data/processed/retail_validation_dataset.csv', index=False)"
   ]
  }
 ],
 "metadata": {
  "kernelspec": {
   "display_name": "Python 3",
   "language": "python",
   "name": "python3"
  },
  "language_info": {
   "codemirror_mode": {
    "name": "ipython",
    "version": 3
   },
   "file_extension": ".py",
   "mimetype": "text/x-python",
   "name": "python",
   "nbconvert_exporter": "python",
   "pygments_lexer": "ipython3",
   "version": "3.10.5"
  },
  "orig_nbformat": 4
 },
 "nbformat": 4,
 "nbformat_minor": 2
}
